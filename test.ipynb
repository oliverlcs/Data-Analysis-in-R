{
 "cells": [
  {
   "cell_type": "code",
   "execution_count": null,
   "id": "8cf2ad84",
   "metadata": {},
   "outputs": [],
   "source": [
    "import os"
   ]
  }
 ],
 "metadata": {
  "language_info": {
   "name": "plaintext"
  }
 },
 "nbformat": 4,
 "nbformat_minor": 5
}
