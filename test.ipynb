{
 "cells": [
  {
   "cell_type": "code",
   "execution_count": 5,
   "id": "8cf2ad84",
   "metadata": {},
   "outputs": [],
   "source": [
    "import pandas as pd"
   ]
  },
  {
   "cell_type": "code",
   "execution_count": null,
   "id": "da43dc70",
   "metadata": {},
   "outputs": [
    {
     "data": {
      "text/plain": [
       "44"
      ]
     },
     "execution_count": 8,
     "metadata": {},
     "output_type": "execute_result"
    }
   ],
   "source": [
    "data_expanded = pd.read_csv(\"./data/expanded_fitness_data.csv\")\n",
    "data_final = pd.read_csv(\"./data/Final_data.csv\")"
   ]
  },
  {
   "cell_type": "code",
   "execution_count": 16,
   "id": "98740d58",
   "metadata": {},
   "outputs": [
    {
     "name": "stdout",
     "output_type": "stream",
     "text": [
      "data_expanded:  44\n",
      "data_final:  54\n",
      "column not in data expanded: BMI_calc\n",
      "column not in data expanded: cal_from_macros\n",
      "column not in data expanded: pct_carbs\n",
      "column not in data expanded: protein_per_kg\n",
      "column not in data expanded: pct_HRR\n",
      "column not in data expanded: pct_maxHR\n",
      "column not in data expanded: cal_balance\n",
      "column not in data expanded: lean_mass_kg\n",
      "column not in data expanded: expected_burn\n",
      "column not in data expanded: Burns Calories (per 30 min)_bc\n",
      "column not in data expanded: Burns_Calories_Bin\n",
      "column not in data final: is_healthy\n"
     ]
    }
   ],
   "source": [
    "print(\"data_expanded: \", len(data_expanded.columns))\n",
    "print(\"data_final: \", len(data_final.columns))\n",
    "\n",
    "for col in data_final.columns:\n",
    "    if col not in data_expanded.columns:\n",
    "        print(f\"column not in data expanded: {col}\")\n",
    "        \n",
    "for col in data_expanded.columns:\n",
    "    if col not in data_final.columns:\n",
    "        print(f\"column not in data final: {col}\")"
   ]
  },
  {
   "cell_type": "code",
   "execution_count": 17,
   "id": "165016d7",
   "metadata": {},
   "outputs": [
    {
     "data": {
      "text/plain": [
       "Age                               float64\n",
       "Gender                             object\n",
       "Weight (kg)                       float64\n",
       "Height (m)                        float64\n",
       "Max_BPM                           float64\n",
       "Avg_BPM                           float64\n",
       "Resting_BPM                       float64\n",
       "Session_Duration (hours)          float64\n",
       "Calories_Burned                   float64\n",
       "Workout_Type                       object\n",
       "Fat_Percentage                    float64\n",
       "Water_Intake (liters)             float64\n",
       "Workout_Frequency (days/week)     float64\n",
       "Experience_Level                  float64\n",
       "BMI                               float64\n",
       "Daily meals frequency             float64\n",
       "Physical exercise                 float64\n",
       "Carbs                             float64\n",
       "Proteins                          float64\n",
       "Fats                              float64\n",
       "Calories                          float64\n",
       "meal_name                          object\n",
       "meal_type                          object\n",
       "diet_type                          object\n",
       "sugar_g                           float64\n",
       "sodium_mg                         float64\n",
       "cholesterol_mg                    float64\n",
       "serving_size_g                    float64\n",
       "cooking_method                     object\n",
       "prep_time_min                     float64\n",
       "cook_time_min                     float64\n",
       "rating                            float64\n",
       "Name of Exercise                   object\n",
       "Sets                              float64\n",
       "Reps                              float64\n",
       "Benefit                            object\n",
       "Burns Calories (per 30 min)       float64\n",
       "Target Muscle Group                object\n",
       "Equipment Needed                   object\n",
       "Difficulty Level                   object\n",
       "Body Part                          object\n",
       "Type of Muscle                     object\n",
       "Workout                            object\n",
       "BMI_calc                          float64\n",
       "cal_from_macros                   float64\n",
       "pct_carbs                         float64\n",
       "protein_per_kg                    float64\n",
       "pct_HRR                           float64\n",
       "pct_maxHR                         float64\n",
       "cal_balance                       float64\n",
       "lean_mass_kg                      float64\n",
       "expected_burn                     float64\n",
       "Burns Calories (per 30 min)_bc    float64\n",
       "Burns_Calories_Bin                 object\n",
       "dtype: object"
      ]
     },
     "execution_count": null,
     "metadata": {},
     "output_type": "execute_result"
    }
   ],
   "source": [
    "data_final.dtypes"
   ]
  },
  {
   "cell_type": "code",
   "execution_count": 23,
   "id": "0be3a4d0",
   "metadata": {},
   "outputs": [
    {
     "data": {
      "text/plain": [
       "5220      781.0\n",
       "15126     906.0\n",
       "193       907.0\n",
       "18556     913.0\n",
       "7917      925.0\n",
       "          ...  \n",
       "7768     3611.0\n",
       "914      3612.0\n",
       "4263     3633.0\n",
       "14910    3641.0\n",
       "14129    3641.0\n",
       "Name: Calories, Length: 20000, dtype: float64"
      ]
     },
     "execution_count": null,
     "metadata": {},
     "output_type": "execute_result"
    }
   ],
   "source": [
    "(data_final[\"Calories\"]).sort_values()\n",
    "# percent_missing = data_final.isnull().sum() * 100 / len(data_final)\n",
    "# percent_missing"
   ]
  },
  {
   "cell_type": "markdown",
   "id": "af3ff217",
   "metadata": {},
   "source": [
    "# Kategoriale Daten\n",
    "- Gender: 'Male', 'Female'\n",
    "- Workout_Type: 'Strength', 'HIIT', 'Cardio', 'Yoga'\n",
    "- meal_name: 'Other'\n",
    "- diet_type: 'Vegan', 'Vegetarian', 'Paleo', 'Keto', 'Low-Carb', 'Balanced'\n",
    "- cooking_method: 'Grilled', 'Fried', 'Boiled', 'Baked', 'Steamed', 'Raw', 'Roasted'\n",
    "- Difficulty Level: 'Advanced', 'Intermediate', 'Beginner'\n",
    "- Body Part: 'Legs', 'Chest', 'Arms', 'Shoulders', 'Abs', 'Back', 'Forearms'\n",
    "- Type of Muscle: 'Lats', 'Grip Strength', 'Upper', 'Wrist Flexors', 'Lower',\n",
    "       'Middle', 'Lower Chest', 'Triceps', 'Quads', 'Anterior',\n",
    "       'Posterior', 'Wrist Extensors', 'Lateral'\n",
    "- Burns_Calories_Bin: 'Medium', 'High', 'Low', 'Very High'\n",
    "\n",
    "=> 9 kategoriale Daten\n",
    "\n",
    "# Nicht kategoriale Daten\n",
    "- Name of Exercise\n",
    "- Benefit\n",
    "- Target Muscle Group\n",
    "- Equipment Needed\n",
    "- Workout\n",
    "\n",
    "=> 5 Nicht-numerische & nicht-kategoriale Daten, folglich unstrukturierte Daten"
   ]
  }
 ],
 "metadata": {
  "kernelspec": {
   "display_name": ".venv",
   "language": "python",
   "name": "python3"
  },
  "language_info": {
   "codemirror_mode": {
    "name": "ipython",
    "version": 3
   },
   "file_extension": ".py",
   "mimetype": "text/x-python",
   "name": "python",
   "nbconvert_exporter": "python",
   "pygments_lexer": "ipython3",
   "version": "3.13.7"
  }
 },
 "nbformat": 4,
 "nbformat_minor": 5
}
